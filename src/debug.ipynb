{
 "cells": [
  {
   "cell_type": "code",
   "execution_count": 1,
   "metadata": {},
   "outputs": [],
   "source": [
    "import MLPackages\n",
    "import os\n",
    "import io\n",
    "from pathlib import Path"
   ]
  },
  {
   "cell_type": "code",
   "execution_count": 2,
   "metadata": {},
   "outputs": [
    {
     "name": "stdout",
     "output_type": "stream",
     "text": [
      "d:\\MLOps\\Orignals\\MLOps\\Jenkins\\src\n"
     ]
    }
   ],
   "source": [
    "pwd = os.getcwd()\n",
    "print(pwd)"
   ]
  },
  {
   "cell_type": "code",
   "execution_count": 3,
   "metadata": {},
   "outputs": [
    {
     "name": "stdout",
     "output_type": "stream",
     "text": [
      "['asgiref==3.7.2', 'asttokens==2.4.1', 'colorama==0.4.6', 'comm==0.2.2', 'debugpy==1.8.1', 'decorator==5.1.1', 'Django==4.2.11', 'et-xmlfile==1.1.0', 'executing==2.0.1', 'iniconfig==2.0.0', 'ipython==8.22.2', 'jedi==0.19.1', 'joblib==1.3.2', 'jupyter_client==8.6.1', 'jupyter_core==5.7.2', 'matplotlib-inline==0.1.6', 'nest-asyncio==1.6.0', 'numpy==1.26.4', 'openpyxl==3.1.2', 'packaging==24.0', 'pandas==2.2.1', 'parso==0.8.3', 'platformdirs==4.2.0', 'pluggy==1.4.0', 'prompt-toolkit==3.0.43', 'psutil==5.9.8', 'pure-eval==0.2.2', 'Pygments==2.17.2', 'pytest==8.1.1', 'python-dateutil==2.9.0.post0', 'pytz==2024.1', 'pywin32==306', 'pyzmq==25.1.2', 'scikit-learn==1.4.1.post1', 'scipy==1.12.0', 'six==1.16.0', 'sqlparse==0.4.4', 'stack-data==0.6.3', 'threadpoolctl==3.4.0', 'tornado==6.4', 'traitlets==5.14.2', 'tzdata==2024.1', 'wcwidth==0.2.13']\n"
     ]
    }
   ],
   "source": [
    "def list_req(fname = 'requirements.txt'):\n",
    "    with io.open(os.path.join(pwd, fname), encoding='utf-8') as f:\n",
    "        return f.read().splitlines()\n",
    "    \n",
    "print(list_req())"
   ]
  },
  {
   "cell_type": "code",
   "execution_count": 4,
   "metadata": {},
   "outputs": [],
   "source": [
    "NAME = 'MLPackages'\n",
    "DESCRIPTION = 'This is a simple loan prediction model. If file not found, try debugging the setup.py or other files included in the package file'\n",
    "URL = 'https://github.com/fudge-fantastic'\n",
    "EMAIL = 'adi.pandagle@gmail.com'\n",
    "AUTHOR = 'Bluesalt'\n",
    "REQUIRED_PYTHON = '>=3.9.0'"
   ]
  },
  {
   "cell_type": "code",
   "execution_count": 5,
   "metadata": {},
   "outputs": [],
   "source": [
    "try:\n",
    "    with io.open(os.path.join(pwd, 'README.md'), encoding='utf-8') as f:\n",
    "        long_description = '\\n' + f.read()\n",
    "except FileNotFoundError:\n",
    "    long_description = DESCRIPTION"
   ]
  },
  {
   "cell_type": "code",
   "execution_count": 6,
   "metadata": {},
   "outputs": [
    {
     "name": "stdout",
     "output_type": "stream",
     "text": [
      "d:\\MLOps\\Orignals\\MLOps\\Jenkins\\src\n"
     ]
    }
   ],
   "source": [
    "print(os.getcwd())"
   ]
  },
  {
   "cell_type": "code",
   "execution_count": 7,
   "metadata": {},
   "outputs": [],
   "source": [
    "ROOT_DIR = os.getcwd()\n",
    "PACKAGE_DIR = os.path.join(ROOT_DIR, NAME)\n",
    "# print(ROOT_DIR)\n",
    "# print(PACKAGE_DIR)\n",
    "about = {}\n",
    "with open(os.path.join(PACKAGE_DIR, 'VERSION')) as f:\n",
    "    _version = f.read().strip()\n",
    "    about['__version__'] = _version"
   ]
  },
  {
   "cell_type": "code",
   "execution_count": 8,
   "metadata": {},
   "outputs": [],
   "source": [
    "import setuptools\n",
    "from setuptools import setup\n",
    "# setup(\n",
    "#     name = NAME,\n",
    "#     version = about['__version__'],\n",
    "#     description = DESCRIPTION,\n",
    "#     long_description = long_description,\n",
    "#     author=AUTHOR,\n",
    "#     author_email=EMAIL,\n",
    "#     python_requires = REQUIRED_PYTHON,\n",
    "#     url = URL,\n",
    "#     packages= setuptools.find_packages(),\n",
    "#     package_data= {'MLPackages' : ['VERSION']},\n",
    "#     install_requires = list_req(),\n",
    "#     include_package_data= True,\n",
    "#     license='MIT'\n",
    "# )"
   ]
  },
  {
   "cell_type": "code",
   "execution_count": 11,
   "metadata": {},
   "outputs": [
    {
     "name": "stdout",
     "output_type": "stream",
     "text": [
      "d:\\MLOps\\Orignals\\MLOps\\Jenkins\\src\n",
      "d:\\MLOps\\Orignals\\MLOps\\Jenkins\n"
     ]
    }
   ],
   "source": [
    "import sys\n",
    "\n",
    "path1 = os.getcwd()\n",
    "path2 = os.path.dirname(path1)\n",
    "sys.path.append(path2)\n",
    "print(path1)\n",
    "print(path2)"
   ]
  },
  {
   "cell_type": "code",
   "execution_count": 12,
   "metadata": {},
   "outputs": [
    {
     "name": "stdout",
     "output_type": "stream",
     "text": [
      "d:\\MLOps\\Orignals\\MLOps\\Jenkins\\src\\MLPackages\n",
      "d:\\MLOps\\Orignals\\MLOps\\Jenkins\\src\\MLPackages\\classification.pkl\n"
     ]
    }
   ],
   "source": [
    "path3 = os.path.dirname(MLPackages.__file__)\n",
    "path4 = os.path.join(path3, 'classification.pkl')\n",
    "\n",
    "print(path3)\n",
    "print(path4)"
   ]
  },
  {
   "cell_type": "code",
   "execution_count": null,
   "metadata": {},
   "outputs": [],
   "source": []
  }
 ],
 "metadata": {
  "kernelspec": {
   "display_name": "venv",
   "language": "python",
   "name": "python3"
  },
  "language_info": {
   "codemirror_mode": {
    "name": "ipython",
    "version": 3
   },
   "file_extension": ".py",
   "mimetype": "text/x-python",
   "name": "python",
   "nbconvert_exporter": "python",
   "pygments_lexer": "ipython3",
   "version": "3.11.9"
  }
 },
 "nbformat": 4,
 "nbformat_minor": 2
}
