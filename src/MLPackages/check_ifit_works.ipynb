{
 "cells": [
  {
   "cell_type": "code",
   "execution_count": 1,
   "metadata": {},
   "outputs": [
    {
     "name": "stdout",
     "output_type": "stream",
     "text": [
      "d:\\MLOps\\Orignals\\MLOps\\Jenkins\\src\\MLPackages\n",
      "d:\\MLOps\\Orignals\\MLOps\\Jenkins\\src\n"
     ]
    }
   ],
   "source": [
    "# If not able to import the MLPackages\n",
    "import os\n",
    "import sys\n",
    "\n",
    "p1 = os.getcwd()\n",
    "p2 = os.path.dirname(p1)\n",
    "p3 = os.path.join(p2)\n",
    "print(p1)\n",
    "print(p2)\n",
    "# Join these paths, for them to work\n",
    "# print(p3)\n",
    "# sys.path.append(p3)"
   ]
  },
  {
   "cell_type": "code",
   "execution_count": 2,
   "metadata": {},
   "outputs": [],
   "source": [
    "import os\n",
    "import sys\n",
    "\n",
    "a = os.getcwd()\n",
    "sys.path.append(a)"
   ]
  },
  {
   "cell_type": "code",
   "execution_count": 3,
   "metadata": {},
   "outputs": [
    {
     "name": "stdout",
     "output_type": "stream",
     "text": [
      "d:\\MLOps\\Orignals\\MLOps\\Jenkins\\src\n"
     ]
    }
   ],
   "source": [
    "a = os.getcwd()\n",
    "b = os.path.dirname(a)\n",
    "print(b)\n",
    "sys.path.append(b)"
   ]
  },
  {
   "cell_type": "code",
   "execution_count": 4,
   "metadata": {},
   "outputs": [
    {
     "name": "stdout",
     "output_type": "stream",
     "text": [
      "D:\\MLOps\\Orignals\\MLOps\\Jenkins\\venv\\Lib\\site-packages\\MLPackages\n"
     ]
    }
   ],
   "source": [
    "import MLPackages\n",
    "import pathlib\n",
    "new_path = pathlib.Path(MLPackages.__file__).resolve().parent\n",
    "print(new_path)"
   ]
  },
  {
   "cell_type": "code",
   "execution_count": 5,
   "metadata": {},
   "outputs": [
    {
     "data": {
      "text/plain": [
       "'1.0.0'"
      ]
     },
     "execution_count": 5,
     "metadata": {},
     "output_type": "execute_result"
    }
   ],
   "source": [
    "# Check if able to import\n",
    "import MLPackages\n",
    "\n",
    "MLPackages.__version__"
   ]
  },
  {
   "cell_type": "code",
   "execution_count": 6,
   "metadata": {},
   "outputs": [],
   "source": [
    "from MLPackages.training_pipeline import perform_training"
   ]
  },
  {
   "cell_type": "code",
   "execution_count": null,
   "metadata": {},
   "outputs": [],
   "source": []
  }
 ],
 "metadata": {
  "kernelspec": {
   "display_name": "venv",
   "language": "python",
   "name": "python3"
  },
  "language_info": {
   "codemirror_mode": {
    "name": "ipython",
    "version": 3
   },
   "file_extension": ".py",
   "mimetype": "text/x-python",
   "name": "python",
   "nbconvert_exporter": "python",
   "pygments_lexer": "ipython3",
   "version": "3.11.9"
  }
 },
 "nbformat": 4,
 "nbformat_minor": 2
}
