{
 "cells": [
  {
   "cell_type": "code",
   "execution_count": 1,
   "metadata": {},
   "outputs": [
    {
     "name": "stdout",
     "output_type": "stream",
     "text": [
      "d:\\MLOps\\Mine\\Jenkins\\src\\tests\n",
      "d:\\MLOps\\Mine\\Jenkins\\src\n",
      "None\n"
     ]
    }
   ],
   "source": [
    "import os\n",
    "#import MLPackages\n",
    "import sys\n",
    "import pathlib\n",
    "\n",
    "p1 = os.getcwd()\n",
    "p2 = os.path.dirname(p1)\n",
    "p3 = os.path.join(p2)\n",
    "print(p1)\n",
    "print(p2)\n",
    "print(sys.path.append(p3))"
   ]
  },
  {
   "cell_type": "code",
   "execution_count": 2,
   "metadata": {},
   "outputs": [
    {
     "name": "stdout",
     "output_type": "stream",
     "text": [
      "d:\\MLOps\\Mine\\Jenkins\\src\n"
     ]
    }
   ],
   "source": [
    "parent_dir = os.path.abspath(os.path.join(os.getcwd(), os.pardir))\n",
    "print(parent_dir)\n",
    "# Add the parent directory to the Python path\n",
    "# sys.path.append(parent_dir)"
   ]
  },
  {
   "cell_type": "code",
   "execution_count": 3,
   "metadata": {},
   "outputs": [
    {
     "data": {
      "text/plain": [
       "'1.0.0'"
      ]
     },
     "execution_count": 3,
     "metadata": {},
     "output_type": "execute_result"
    }
   ],
   "source": [
    "import MLPackages\n",
    "MLPackages.__version__"
   ]
  }
 ],
 "metadata": {
  "kernelspec": {
   "display_name": "venv",
   "language": "python",
   "name": "python3"
  },
  "language_info": {
   "codemirror_mode": {
    "name": "ipython",
    "version": 3
   },
   "file_extension": ".py",
   "mimetype": "text/x-python",
   "name": "python",
   "nbconvert_exporter": "python",
   "pygments_lexer": "ipython3",
   "version": "3.11.9"
  }
 },
 "nbformat": 4,
 "nbformat_minor": 2
}
